{
 "cells": [
  {
   "cell_type": "markdown",
   "metadata": {},
   "source": [
    "### Setting up"
   ]
  },
  {
   "cell_type": "markdown",
   "metadata": {},
   "source": [
    "BE WARNED! You will not be able to access smule web for 24 hrs after this!"
   ]
  },
  {
   "cell_type": "code",
   "execution_count": null,
   "metadata": {},
   "outputs": [],
   "source": [
    "# Dependencies\n",
    "import json\n",
    "import pandas as pd\n",
    "import requests\n",
    "from config.py import id_1, id_2"
   ]
  },
  {
   "cell_type": "code",
   "execution_count": null,
   "metadata": {},
   "outputs": [],
   "source": [
    "# List of Song, Date, URL\n",
    "songs = []\n",
    "artist = []\n",
    "date = []\n",
    "song_url = []"
   ]
  },
  {
   "cell_type": "code",
   "execution_count": null,
   "metadata": {},
   "outputs": [],
   "source": [
    "# Building url\n",
    "user_1 = f'https://www.smule.com/s/profile/performance/{id_1}/sing?offset='\n",
    "user_2 = f'https://www.smule.com/s/profile/performance/{id_2}/sing?offset='\n",
    "offset = 0"
   ]
  },
  {
   "cell_type": "markdown",
   "metadata": {},
   "source": [
    "### Gather all the songs the two singers sang togehter"
   ]
  },
  {
   "cell_type": "markdown",
   "metadata": {},
   "source": [
    "id_1 is the VIP"
   ]
  },
  {
   "cell_type": "code",
   "execution_count": null,
   "metadata": {},
   "outputs": [],
   "source": [
    "recording_base_url = 'https://www.smule.com/'"
   ]
  },
  {
   "cell_type": "code",
   "execution_count": null,
   "metadata": {},
   "outputs": [],
   "source": [
    "# Infinite loop until the list is empty (offset ran out)\n",
    "\n",
    "while True:\n",
    "    response = requests.get(f'{user_2}{offset}').json()\n",
    "    json_stuff = response['list']\n",
    "    if not json_stuff:\n",
    "        break\n",
    "        \n",
    "    for x in range(0,len(json_stuff)):\n",
    "        if json_stuff[x]['performed_by'] == id_1:\n",
    "            songs.append(json_stuff[x]['title'])\n",
    "            artist.append(json_stuff[x]['artist'])\n",
    "            date.append(json_stuff[x]['created_at'])\n",
    "            recording_url = recording_base_url + json_stuff[x]['web_url']\n",
    "            song_url.append(recording_url)\n",
    "                            \n",
    "    offset += 25"
   ]
  },
  {
   "cell_type": "markdown",
   "metadata": {},
   "source": [
    "id_2 is the VIP: Skip this step if the other user is never a VIP"
   ]
  },
  {
   "cell_type": "code",
   "execution_count": null,
   "metadata": {},
   "outputs": [],
   "source": [
    "# Run another infinite loop again - You might have to wait 24 hrs b/c you'll get 418 code :P\n",
    "\n",
    "while True:\n",
    "    response = requests.get(f'{user_1}{offset}').json()\n",
    "    response_list = response['list']\n",
    "    if not json_stuff:\n",
    "        break\n",
    "        \n",
    "    for x in range(0,len(json_stuff)):\n",
    "        if response_list[x]['performed_by'] == id_2:\n",
    "            songs.append(response_list[x]['title'])\n",
    "            artist.append(response_list[x]['artist'])\n",
    "            date.append(response_list[x]['created_at'])\n",
    "            recording_url = recording_base_url + response_list[x]['web_url']\n",
    "            song_url.append(recording_url)\n",
    "                            \n",
    "    offset += 25"
   ]
  },
  {
   "cell_type": "code",
   "execution_count": null,
   "metadata": {},
   "outputs": [],
   "source": [
    "# How many songs total?\n",
    "len(songs)"
   ]
  },
  {
   "cell_type": "code",
   "execution_count": null,
   "metadata": {},
   "outputs": [],
   "source": [
    "# Show the list of saku2222saku joined Ochalady!\n",
    "all_songs_df = pd.DataFrame({'Title':songs,\n",
    "                             'Artist': artist,\n",
    "                             'Date Created': date,\n",
    "                             'URL': song_url})"
   ]
  },
  {
   "cell_type": "code",
   "execution_count": null,
   "metadata": {},
   "outputs": [],
   "source": [
    "all_songs_df"
   ]
  },
  {
   "cell_type": "code",
   "execution_count": null,
   "metadata": {},
   "outputs": [],
   "source": [
    "# don't know if this will work...\n",
    "# from bs4 import BeautifulSoup as bs\n",
    "# date_only = date.split('T')[0]"
   ]
  },
  {
   "cell_type": "code",
   "execution_count": null,
   "metadata": {},
   "outputs": [],
   "source": [
    "# Save as a csv\n",
    "# all_songs_df.to_csv(\"all_songs.csv\", encoding=\"utf-8\", index=False)"
   ]
  }
 ],
 "metadata": {
  "kernelspec": {
   "display_name": "Python 3",
   "language": "python",
   "name": "python3"
  },
  "language_info": {
   "codemirror_mode": {
    "name": "ipython",
    "version": 3
   },
   "file_extension": ".py",
   "mimetype": "text/x-python",
   "name": "python",
   "nbconvert_exporter": "python",
   "pygments_lexer": "ipython3",
   "version": "3.6.10"
  }
 },
 "nbformat": 4,
 "nbformat_minor": 4
}
